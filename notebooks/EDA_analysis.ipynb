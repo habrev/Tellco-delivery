{
 "cells": [
  {
   "cell_type": "markdown",
   "metadata": {},
   "source": [
    "#aggregate information per users "
   ]
  },
  {
   "cell_type": "code",
   "execution_count": 6,
   "metadata": {},
   "outputs": [
    {
     "name": "stdout",
     "output_type": "stream",
     "text": [
      "           Bearer Id  Number_of_Sessions  Total_Session_Duration  \\\n",
      "0       6.917538e+18                   1                 24534.0   \n",
      "1       6.917538e+18                   1                 21489.0   \n",
      "2       6.917538e+18                   1                 27786.0   \n",
      "3       6.917538e+18                   1                 15635.0   \n",
      "4       6.917538e+18                   1                 24264.0   \n",
      "...              ...                 ...                     ...   \n",
      "134703  1.318654e+19                   1                 80024.0   \n",
      "134704  1.318654e+19                   1                145291.0   \n",
      "134705  1.318654e+19                   1                 86399.0   \n",
      "134706  1.318654e+19                   1                 86399.0   \n",
      "134707  1.318654e+19                   1                103113.0   \n",
      "\n",
      "        Total_Download  Total_Upload  Total_Data_Volume  \n",
      "0          500721999.0    41704610.0        542426609.0  \n",
      "1          709549265.0    38693596.0        748242861.0  \n",
      "2          854465860.0    15548926.0        870014786.0  \n",
      "3          825786510.0    49605688.0        875392198.0  \n",
      "4          624957763.0    21983463.0        646941226.0  \n",
      "...                ...           ...                ...  \n",
      "134703     145293140.0    35412664.0        180705804.0  \n",
      "134704     387001634.0    36189587.0        423191221.0  \n",
      "134705     872688792.0    35919460.0        908608252.0  \n",
      "134706     386355068.0    40877676.0        427232744.0  \n",
      "134707     327212841.0    46147558.0        373360399.0  \n",
      "\n",
      "[134708 rows x 6 columns]\n"
     ]
    }
   ],
   "source": [
    "import pandas as pd\n",
    "\n",
    "# Load the xDR dataset\n",
    "# Assume the dataset has columns: 'User_ID', 'Application', 'Session_Duration', 'Download_Bytes', 'Upload_Bytes'\n",
    "# Replace 'your_xdr_data.csv' with the actual file path\n",
    "xdr_data = pd.read_csv('../assets/data/Copy of Week2_challenge_data_source(CSV).csv')\n",
    "\n",
    "# Add a column for Total_Data_Volume (Download + Upload)\n",
    "xdr_data['Total_Data_Volume'] = xdr_data['Total DL (Bytes)'] + xdr_data['Total UL (Bytes)']\n",
    "\n",
    "# Aggregate the data\n",
    "aggregated_data = xdr_data.groupby(['Bearer Id',]).agg(\n",
    "    Number_of_Sessions=('Dur. (ms)', 'count'),\n",
    "    Total_Session_Duration=('Dur. (ms)', 'sum'),\n",
    "    Total_Download=('Total DL (Bytes)', 'sum'),\n",
    "    Total_Upload=('Total UL (Bytes)', 'sum'),\n",
    "    Total_Data_Volume=('Total_Data_Volume', 'sum')\n",
    ").reset_index()\n",
    "\n",
    "# Save the aggregated data to a new CSV file\n",
    "aggregated_data.to_csv('../assets/data/aggregated_xdr_data.csv', index=False)\n",
    "\n",
    "# Display the first few rows of the aggregated data\n",
    "print(aggregated_data)\n"
   ]
  },
  {
   "cell_type": "code",
   "execution_count": null,
   "metadata": {},
   "outputs": [],
   "source": []
  }
 ],
 "metadata": {
  "kernelspec": {
   "display_name": ".venv",
   "language": "python",
   "name": "python3"
  },
  "language_info": {
   "codemirror_mode": {
    "name": "ipython",
    "version": 3
   },
   "file_extension": ".py",
   "mimetype": "text/x-python",
   "name": "python",
   "nbconvert_exporter": "python",
   "pygments_lexer": "ipython3",
   "version": "3.10.12"
  }
 },
 "nbformat": 4,
 "nbformat_minor": 2
}
