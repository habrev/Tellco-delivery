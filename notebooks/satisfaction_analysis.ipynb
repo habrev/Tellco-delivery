{
 "cells": [
  {
   "cell_type": "markdown",
   "metadata": {},
   "source": [
    "# Engagement score "
   ]
  },
  {
   "cell_type": "code",
   "execution_count": 1,
   "metadata": {},
   "outputs": [
    {
     "name": "stdout",
     "output_type": "stream",
     "text": [
      "      Bearer Id  engagement_score\n",
      "0  6.917538e+18          0.983794\n",
      "1  6.917538e+18          1.160657\n",
      "2  6.917538e+18          1.345800\n",
      "3  6.917538e+18          1.440488\n",
      "4  6.917538e+18          1.016334\n",
      "Engagement scores have been saved to ../assets/data/engagement_scores.csv\n"
     ]
    },
    {
     "data": {
      "text/plain": [
       "<function engagement_score.calculate_engagement_score(input_file, output_file)>"
      ]
     },
     "execution_count": 1,
     "metadata": {},
     "output_type": "execute_result"
    }
   ],
   "source": [
    "# Import necessary modules\n",
    "import sys\n",
    "sys.path.append('../scripts')  \n",
    "from engagement_score import calculate_engagement_score\n",
    "\n",
    "# Define paths\n",
    "input_file = '../assets/data/aggregated_xdr_data.csv'\n",
    "output_file = \"../assets/data/engagement_scores.csv\"      \n",
    "\n",
    "# Call the engagement function\n",
    "calculate_engagement_score(input_file, output_file)\n"
   ]
  },
  {
   "cell_type": "markdown",
   "metadata": {},
   "source": [
    "# experience score"
   ]
  },
  {
   "cell_type": "code",
   "execution_count": 3,
   "metadata": {},
   "outputs": [
    {
     "name": "stdout",
     "output_type": "stream",
     "text": [
      "Experience scores saved to ../assets/data/user_data_with_experience_scores.csv\n"
     ]
    }
   ],
   "source": [
    "import sys\n",
    "sys.path.append('../scripts')  \n",
    "from experience_score import load_user_data, calculate_experience_score, save_data_with_scores\n",
    "\n",
    "import numpy as np\n",
    "centroid_cluster_1 = np.array([2.064230e+07, 65.010918, 1372.051897])\n",
    "\n",
    "\n",
    "user_data_path = '../assets/data/aggregated_xdr_data.csv'  \n",
    "user_data = load_user_data(user_data_path)\n",
    "\n",
    "\n",
    "user_data_with_scores = calculate_experience_score(user_data, centroid_cluster_1)\n",
    "\n",
    "\n",
    "output_path = '../assets/data/user_data_with_experience_scores.csv'  \n",
    "\n",
    "# Save the data with experience scores to the output path\n",
    "save_data_with_scores(user_data_with_scores, output_path)\n",
    "\n"
   ]
  },
  {
   "cell_type": "markdown",
   "metadata": {},
   "source": [
    "# combining the experience and enagement score "
   ]
  },
  {
   "cell_type": "code",
   "execution_count": 4,
   "metadata": {},
   "outputs": [
    {
     "name": "stdout",
     "output_type": "stream",
     "text": [
      "           Bearer Id  engagement_score  Number_of_Sessions  \\\n",
      "0       6.917538e+18          0.983794                   1   \n",
      "1       6.917538e+18          1.160657                   1   \n",
      "2       6.917538e+18          1.345800                   1   \n",
      "3       6.917538e+18          1.440488                   1   \n",
      "4       6.917538e+18          1.016334                   1   \n",
      "...              ...               ...                 ...   \n",
      "134703  1.318654e+19          1.300365                   1   \n",
      "134704  1.318654e+19          0.625165                   1   \n",
      "134705  1.318654e+19          1.164043                   1   \n",
      "134706  1.318654e+19          0.623930                   1   \n",
      "134707  1.318654e+19          0.699664                   1   \n",
      "\n",
      "        Total_Session_Duration  Total_Download  Total_Upload  \\\n",
      "0                      24534.0     500721999.0    41704610.0   \n",
      "1                      21489.0     709549265.0    38693596.0   \n",
      "2                      27786.0     854465860.0    15548926.0   \n",
      "3                      15635.0     825786510.0    49605688.0   \n",
      "4                      24264.0     624957763.0    21983463.0   \n",
      "...                        ...             ...           ...   \n",
      "134703                 80024.0     145293140.0    35412664.0   \n",
      "134704                145291.0     387001634.0    36189587.0   \n",
      "134705                 86399.0     872688792.0    35919460.0   \n",
      "134706                 86399.0     386355068.0    40877676.0   \n",
      "134707                103113.0     327212841.0    46147558.0   \n",
      "\n",
      "        Total_Data_Volume  experience_score  \n",
      "0             542426609.0      2.064230e+07  \n",
      "1             748242861.0      2.064230e+07  \n",
      "2             870014786.0      2.064230e+07  \n",
      "3             875392198.0      2.064230e+07  \n",
      "4             646941226.0      2.064230e+07  \n",
      "...                   ...               ...  \n",
      "134703        180705804.0      2.064230e+07  \n",
      "134704        423191221.0      2.064230e+07  \n",
      "134705        908608252.0      2.064230e+07  \n",
      "134706        427232744.0      2.064230e+07  \n",
      "134707        373360399.0      2.064230e+07  \n",
      "\n",
      "[134708 rows x 8 columns]\n"
     ]
    }
   ],
   "source": [
    "import pandas as pd\n",
    "\n",
    "# File paths for the two datasets\n",
    "file_path_1 = '../assets/data/engagement_scores.csv'\n",
    "file_path_2 = '../assets/data/user_data_with_experience_scores.csv'\n",
    "\n",
    "# Load the datasets from CSV files\n",
    "df1 = pd.read_csv(file_path_1)\n",
    "df2 = pd.read_csv(file_path_2)\n",
    "\n",
    "# Merge the datasets on 'Bearer Id'\n",
    "merged_df = pd.merge(df1, df2, on='Bearer Id', how='inner')\n",
    "\n",
    "# Save the merged dataset to a new CSV file\n",
    "merged_df.to_csv('../assets/data/merged_dataset.csv', index=False)\n",
    "\n",
    "# Display the merged dataset\n",
    "print(merged_df)\n"
   ]
  },
  {
   "cell_type": "markdown",
   "metadata": {},
   "source": [
    "# Satisfaction score "
   ]
  },
  {
   "cell_type": "code",
   "execution_count": 5,
   "metadata": {},
   "outputs": [
    {
     "name": "stdout",
     "output_type": "stream",
     "text": [
      "Top 10 Satisfied Customers:\n",
      "           Bearer Id  satisfaction_score\n",
      "103378  1.304243e+19        1.032117e+07\n",
      "97305   1.304243e+19        1.032116e+07\n",
      "37995   7.349883e+18        1.032116e+07\n",
      "88125   1.304243e+19        1.032116e+07\n",
      "88030   1.304243e+19        1.032116e+07\n",
      "93908   1.304243e+19        1.032116e+07\n",
      "86526   1.304243e+19        1.032116e+07\n",
      "119186  1.311448e+19        1.032116e+07\n",
      "82371   1.304243e+19        1.032116e+07\n",
      "88183   1.304243e+19        1.032116e+07\n",
      "Top 10 satisfied customers have been saved to ../assets/data/satisfaction_score.csv\n",
      "Top 10 Satisfied Customers:\n",
      "           Bearer Id  satisfaction_score\n",
      "103378  1.304243e+19        1.032117e+07\n",
      "97305   1.304243e+19        1.032116e+07\n",
      "37995   7.349883e+18        1.032116e+07\n",
      "88125   1.304243e+19        1.032116e+07\n",
      "88030   1.304243e+19        1.032116e+07\n",
      "93908   1.304243e+19        1.032116e+07\n",
      "86526   1.304243e+19        1.032116e+07\n",
      "119186  1.311448e+19        1.032116e+07\n",
      "82371   1.304243e+19        1.032116e+07\n",
      "88183   1.304243e+19        1.032116e+07\n",
      "Top 10 satisfied customers have been saved to ../assets/data/satisfaction_score.csv\n"
     ]
    },
    {
     "data": {
      "text/plain": [
       "<function satisfaction_score.calculate_satisfaction_score(input_file, output_file)>"
      ]
     },
     "execution_count": 5,
     "metadata": {},
     "output_type": "execute_result"
    }
   ],
   "source": [
    "import sys\n",
    "sys.path.append('../scripts')  \n",
    "from satisfaction_score import calculate_satisfaction_score\n",
    "\n",
    "input_file = '../assets/data/merged_dataset.csv'  \n",
    "output_file = '../assets/data/satisfaction_score.csv' \n",
    "\n",
    "calculate_satisfaction_score(input_file, output_file)"
   ]
  },
  {
   "cell_type": "code",
   "execution_count": null,
   "metadata": {},
   "outputs": [],
   "source": []
  }
 ],
 "metadata": {
  "kernelspec": {
   "display_name": ".venv",
   "language": "python",
   "name": "python3"
  },
  "language_info": {
   "codemirror_mode": {
    "name": "ipython",
    "version": 3
   },
   "file_extension": ".py",
   "mimetype": "text/x-python",
   "name": "python",
   "nbconvert_exporter": "python",
   "pygments_lexer": "ipython3",
   "version": "3.10.12"
  }
 },
 "nbformat": 4,
 "nbformat_minor": 2
}
