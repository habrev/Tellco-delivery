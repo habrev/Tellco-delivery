{
 "cells": [
  {
   "cell_type": "code",
   "execution_count": 1,
   "metadata": {},
   "outputs": [
    {
     "name": "stdout",
     "output_type": "stream",
     "text": [
      "Model Evaluation Metrics:\n",
      "Mean Squared Error (MSE): 0.10624286797664897\n",
      "Mean Absolute Error (MAE): 0.22933701079152954\n",
      "R^2 Score: 0.4893930611334242\n",
      "Trained model saved to ../assets/data/model.joblib\n"
     ]
    }
   ],
   "source": [
    "import pandas as pd\n",
    "import numpy as np\n",
    "from sklearn.model_selection import train_test_split\n",
    "from sklearn.ensemble import RandomForestRegressor\n",
    "from sklearn.metrics import mean_squared_error, mean_absolute_error, r2_score\n",
    "from sklearn.preprocessing import StandardScaler\n",
    "\n",
    "def train_satisfaction_model(input_file, output_model_file):\n",
    "    # Load the dataset\n",
    "    data = pd.read_csv(input_file)\n",
    "    \n",
    "    # Ensure the dataset contains the necessary columns\n",
    "    required_columns = ['engagement_score', 'experience_score', 'Number_of_Sessions', \n",
    "                        'Total_Session_Duration', 'Total_Data_Volume', 'satisfaction_score']\n",
    "    if not all(col in data.columns for col in required_columns):\n",
    "        raise ValueError(f\"The dataset must contain the following columns: {required_columns}\")\n",
    "    \n",
    "    # Select features (X) and target (y)\n",
    "    X = data[['engagement_score', 'experience_score', 'Number_of_Sessions', \n",
    "              'Total_Session_Duration', 'Total_Data_Volume']]\n",
    "    y = data['satisfaction_score']\n",
    "    \n",
    "    # Split into training and testing sets\n",
    "    X_train, X_test, y_train, y_test = train_test_split(X, y, test_size=0.2, random_state=42)\n",
    "    \n",
    "    # Scale the features\n",
    "    scaler = StandardScaler()\n",
    "    X_train_scaled = scaler.fit_transform(X_train)\n",
    "    X_test_scaled = scaler.transform(X_test)\n",
    "    \n",
    "    # Initialize the model\n",
    "    model = RandomForestRegressor(n_estimators=100, random_state=42)\n",
    "    \n",
    "    # Train the model\n",
    "    model.fit(X_train_scaled, y_train)\n",
    "    \n",
    "    # Evaluate the model\n",
    "    y_pred = model.predict(X_test_scaled)\n",
    "    mse = mean_squared_error(y_test, y_pred)\n",
    "    mae = mean_absolute_error(y_test, y_pred)\n",
    "    r2 = r2_score(y_test, y_pred)\n",
    "    \n",
    "    print(f\"Model Evaluation Metrics:\")\n",
    "    print(f\"Mean Squared Error (MSE): {mse}\")\n",
    "    print(f\"Mean Absolute Error (MAE): {mae}\")\n",
    "    print(f\"R^2 Score: {r2}\")\n",
    "    \n",
    "    # Save the trained model\n",
    "    import joblib\n",
    "    joblib.dump(model, output_model_file)\n",
    "    print(f\"Trained model saved to {output_model_file}\")\n",
    "    \n",
    "    return model\n",
    "\n",
    "# Example usage:\n",
    "input_file = '../assets/data/satisfaction_score.csv'  # Replace with the path to your input CSV file\n",
    "output_model_file = '../assets/data/model.joblib'  # Replace with the desired model output file path\n",
    "\n",
    "trained_model = train_satisfaction_model(input_file, output_model_file)\n"
   ]
  },
  {
   "cell_type": "code",
   "execution_count": null,
   "metadata": {},
   "outputs": [],
   "source": []
  }
 ],
 "metadata": {
  "kernelspec": {
   "display_name": ".venv",
   "language": "python",
   "name": "python3"
  },
  "language_info": {
   "codemirror_mode": {
    "name": "ipython",
    "version": 3
   },
   "file_extension": ".py",
   "mimetype": "text/x-python",
   "name": "python",
   "nbconvert_exporter": "python",
   "pygments_lexer": "ipython3",
   "version": "3.10.12"
  }
 },
 "nbformat": 4,
 "nbformat_minor": 2
}
